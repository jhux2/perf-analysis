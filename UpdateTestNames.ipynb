{
 "cells": [
  {
   "cell_type": "code",
   "execution_count": 1,
   "metadata": {},
   "outputs": [],
   "source": [
    "import glob\n",
    "import json\n",
    "import os\n",
    "import sys"
   ]
  },
  {
   "cell_type": "code",
   "execution_count": 19,
   "metadata": {},
   "outputs": [],
   "source": [
    "testChanges = (\n",
    "    ('ant-2-20km_ml_line_np384', 'ant-2-20km_ml_ls_np384'),\n",
    "    ('ant-2-20km_muelu_decoupled_line_np384', 'ant-2-20km_mu_dls_np384'),\n",
    "    ('ant-2-20km_muelu_line_np384', 'ant-2-20km_mu_ls_np384')\n",
    ")\n",
    "\n",
    "timerChanges = (\n",
    "    ('Albany: **Total Fill Time**:', 'Albany: Total Fill Time:'),\n",
    "    ('Albany: Total Time:', 'Albany Total Time:')\n",
    ")\n",
    "caseChanges = (\n",
    "    ('ant-2-20km_ml_line', 'ant-2-20km_ml_ls'),\n",
    "    ('ant-2-20km_muelu_decoupled_line', 'ant-2-20km_mu_dls'),\n",
    "    ('ant-2-20km_muelu_line', 'ant-2-20km_mu_ls')\n",
    ")"
   ]
  },
  {
   "cell_type": "code",
   "execution_count": 22,
   "metadata": {},
   "outputs": [],
   "source": [
    "def updateJson(filename):\n",
    "    with open(filename) as jf:\n",
    "        ctestData = json.load(jf)\n",
    "    #     print(json.dumps(ctestData, indent=1))\n",
    "        # Modify test names\n",
    "        for old, new in testChanges:\n",
    "            if old in ctestData.keys():\n",
    "                ctestData[new] = ctestData.pop(old)\n",
    "\n",
    "        for test, data in ctestData.items():\n",
    "            # Modify case names\n",
    "            assert('case' in data.keys())\n",
    "            for old, new in caseChanges:\n",
    "                if data['case'] == old:\n",
    "                    data['case'] = new\n",
    "\n",
    "            # Modify timer names\n",
    "            for old, new in timerChanges:\n",
    "                if old in data['timers'].keys():\n",
    "                    data['timers'][new] = data['timers'].pop(old)\n",
    "\n",
    "    #     print(json.dumps(ctestData, indent=1))\n",
    "\n",
    "    # Write updated json file\n",
    "    with open(filename, 'w') as jf:\n",
    "        json.dump(ctestData, jf, indent=1)"
   ]
  },
  {
   "cell_type": "code",
   "execution_count": 24,
   "metadata": {},
   "outputs": [],
   "source": [
    "files = glob.glob('ctest-*')"
   ]
  },
  {
   "cell_type": "code",
   "execution_count": 26,
   "metadata": {},
   "outputs": [],
   "source": [
    "for file in files:\n",
    "    updateJson(file)"
   ]
  },
  {
   "cell_type": "code",
   "execution_count": null,
   "metadata": {},
   "outputs": [],
   "source": []
  }
 ],
 "metadata": {
  "kernelspec": {
   "display_name": "Python 3",
   "language": "python",
   "name": "python3"
  },
  "language_info": {
   "codemirror_mode": {
    "name": "ipython",
    "version": 3
   },
   "file_extension": ".py",
   "mimetype": "text/x-python",
   "name": "python",
   "nbconvert_exporter": "python",
   "pygments_lexer": "ipython3",
   "version": "3.7.6"
  }
 },
 "nbformat": 4,
 "nbformat_minor": 4
}
