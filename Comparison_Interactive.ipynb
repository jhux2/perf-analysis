{
 "cells": [
  {
   "cell_type": "markdown",
   "metadata": {},
   "source": [
    "# ALI Performance Tests on Blake\n",
    "Performance comparison dashboard. Must be run in Jupyter notebook to interact with plots."
   ]
  },
  {
   "cell_type": "code",
   "execution_count": 1,
   "metadata": {},
   "outputs": [],
   "source": [
    "# https://stackoverflow.com/questions/27934885/how-to-hide-code-from-cells-in-ipython-notebook-visualized-with-nbviewer\n",
    "from IPython.display import HTML\n",
    "button = HTML('''<script>\n",
    "code_show=true; \n",
    "function code_toggle() {\n",
    " if (code_show){\n",
    " $('div.input').hide();\n",
    " } else {\n",
    " $('div.input').show();\n",
    " }\n",
    " code_show = !code_show\n",
    "} \n",
    "$( document ).ready(code_toggle);\n",
    "</script>\n",
    "<form action=\"javascript:code_toggle()\"><input type=\"submit\" value=\"Show/hide code blocks\"></form>''')"
   ]
  },
  {
   "cell_type": "code",
   "execution_count": 2,
   "metadata": {},
   "outputs": [
    {
     "data": {
      "text/html": [
       "<script>\n",
       "code_show=true; \n",
       "function code_toggle() {\n",
       " if (code_show){\n",
       " $('div.input').hide();\n",
       " } else {\n",
       " $('div.input').show();\n",
       " }\n",
       " code_show = !code_show\n",
       "} \n",
       "$( document ).ready(code_toggle);\n",
       "</script>\n",
       "<form action=\"javascript:code_toggle()\"><input type=\"submit\" value=\"Show/hide code blocks\"></form>"
      ],
      "text/plain": [
       "<IPython.core.display.HTML object>"
      ]
     },
     "execution_count": 2,
     "metadata": {},
     "output_type": "execute_result"
    }
   ],
   "source": [
    "button"
   ]
  },
  {
   "cell_type": "code",
   "execution_count": 3,
   "metadata": {
    "scrolled": true
   },
   "outputs": [],
   "source": [
    "import datetime as dt\n",
    "import glob\n",
    "import matplotlib.dates as mdates\n",
    "import numpy as np\n",
    "import pandas as pd\n",
    "import os\n",
    "import json\n",
    "\n",
    "import plotly.graph_objects as go\n",
    "\n",
    "# Import scripts\n",
    "from json2timeline import json2dataframe\n",
    "from utils import *\n",
    "from models import findChangePts"
   ]
  },
  {
   "cell_type": "code",
   "execution_count": 4,
   "metadata": {},
   "outputs": [],
   "source": [
    "# Cases to plot:\n",
    "nproc = 384\n",
    "timers = ['Albany: Total Fill Time:']\n",
    "metadata = ['Albany cxx compiler',\n",
    "            'Albany git commit id',\n",
    "            'Trilinos git commit id']\n",
    "cases = ['ant-2-20km_ml_ls',\n",
    "         'ant-2-20km_mu_ls',\n",
    "         'ant-2-20km_mu_dls',\n",
    "         'green-1-7km_fea_1ws',\n",
    "         'green-1-7km_ml_ls_1ws',\n",
    "         'green-1-7km_mu_ls_1ws',\n",
    "         'green-1-7km_mu_dls_1ws',\n",
    "         'green-1-7km_fea_mem',\n",
    "         'green-1-7km_ml_ls_mem',\n",
    "         'green-1-7km_mu_ls_mem',\n",
    "         'green-1-7km_mu_dls_mem']\n",
    "names =  ('Total Time',\n",
    "          'Setup Time',\n",
    "          'Total Fill Time',\n",
    "          'Residual Fill',\n",
    "          'Residual Fill Evaluate',\n",
    "          'Residual Fill Export',\n",
    "          'Jacobian Fill',\n",
    "          'Jacobian Fill Evaluate',\n",
    "          'Jacobian Fill Export',\n",
    "          'NOX Total Preconditioner Construction',\n",
    "          'NOX Total Linear Solve')\n",
    "timers = ('Albany Total Time:',\n",
    "          'Albany: Setup Time:',\n",
    "          'Albany: Total Fill Time:',\n",
    "          'Albany Fill: Residual:',\n",
    "          'Albany Residual Fill: Evaluate:',\n",
    "          'Albany Residual Fill: Export:',\n",
    "          'Albany Fill: Jacobian:',\n",
    "          'Albany Jacobian Fill: Evaluate:',\n",
    "          'Albany Jacobian Fill: Export:',\n",
    "          'NOX Total Preconditioner Construction:',\n",
    "          'NOX Total Linear Solve:')\n",
    "\n",
    "# Extract file names and collect data\n",
    "files = glob.glob('ctest-*')\n",
    "df = json2dataframe(files, cases, nproc, names, timers, metadata)\n",
    "\n",
    "# # Filter data by date if desired\n",
    "# import datetime as dt\n",
    "# df = df[df['date'] < dt.datetime.strptime('20191231', '%Y%m%d')]"
   ]
  },
  {
   "cell_type": "code",
   "execution_count": 5,
   "metadata": {},
   "outputs": [],
   "source": [
    "# Set threshold for model. If normally distributed data, this would\n",
    "# be the probability of a false positive if no change has occurred.\n",
    "# (since real data is not normal, false positives can occur much\n",
    "# more frequently)\n",
    "threshold = 0.0001\n",
    "\n",
    "# Number of days since most recent to warn about\n",
    "recency = 10"
   ]
  },
  {
   "cell_type": "code",
   "execution_count": 6,
   "metadata": {},
   "outputs": [
    {
     "name": "stdout",
     "output_type": "stream",
     "text": [
      "Model threshold: 0.000100\n"
     ]
    }
   ],
   "source": [
    "# #Print some information\n",
    "# print('Test cases:')\n",
    "# [print('  '+c) for c in cases]\n",
    "# print('Timers:')\n",
    "# [print('  '+n) for n in names]\n",
    "print(\"Model threshold: %f\" % threshold)"
   ]
  },
  {
   "cell_type": "code",
   "execution_count": 7,
   "metadata": {
    "scrolled": false
   },
   "outputs": [
    {
     "name": "stdout",
     "output_type": "stream",
     "text": [
      "Events in the most recent 10 days:\n",
      "02/01/2020:\n",
      "    green-1-7km_mu_dls_1ws: Total Time\n",
      "02/02/2020:\n",
      "    green-1-7km_mu_ls_1ws: Total Fill Time\n",
      "    green-1-7km_mu_dls_1ws: Residual Fill\n",
      "    green-1-7km_fea_mem: Residual Fill\n",
      "    green-1-7km_mu_ls_mem: Residual Fill\n",
      "    green-1-7km_mu_dls_mem: Residual Fill\n"
     ]
    }
   ],
   "source": [
    "# Find changepoints and format data to work nicely with plots\n",
    "seqs = {case:{} for case in cases}\n",
    "mostRecent = df['date'].max()\n",
    "events = {}\n",
    "for case in cases:\n",
    "    for name in names:\n",
    "        # Detect changepoints\n",
    "        data = df.loc[df['case']==case, ['date', name]].dropna()\n",
    "        pts, _ = findChangePts(data[name].to_numpy(), threshold=threshold,\n",
    "                               method='mean')\n",
    "        \n",
    "        # Build dictionary of recent changepoints\n",
    "        for d in data['date'].iloc[pts]:\n",
    "            if d in events.keys():\n",
    "                events[d][case] = name\n",
    "            else:\n",
    "                events[d] = {case: name}\n",
    "                    \n",
    "        # Calculate mean/std between changepoints and save in dataframe\n",
    "        cols = ['date', name] + list(metadata)\n",
    "        data = df.loc[df['case']==case, cols].dropna(subset=[name])\n",
    "        data.reset_index(drop=True, inplace=True)\n",
    "        data.rename(columns={name:'time'}, inplace=True)\n",
    "        mean, std = regimeTimeseries(data['time'].to_numpy(), pts)\n",
    "        temp = {'mean': mean, 'upper': mean+2*std, 'lower': mean-2*std}\n",
    "        seqs[case][name] = pd.concat((data, pd.DataFrame(temp)), axis=1)\n",
    "        \n",
    "''''''\n",
    "# Sort and print recent events\n",
    "events = {k:events[k] for k in sorted(events.keys())}\n",
    "print('Events in the most recent %d days:' % recency)\n",
    "recentEvents = printEvents(events, mostRecent, recency)"
   ]
  },
  {
   "cell_type": "code",
   "execution_count": 14,
   "metadata": {
    "scrolled": false
   },
   "outputs": [],
   "source": [
    "# Plot characteristics\n",
    "lines = ['time', 'mean', 'upper', 'lower']\n",
    "colors = ['darkred', 'midnightblue']\n",
    "modes = ['markers', 'lines', 'lines', 'lines']\n",
    "dashes = ['solid', 'solid', 'dot', 'dot']\n",
    "\n",
    "fig = go.FigureWidget()\n",
    "# Create series on plot\n",
    "for line, mode, dash in zip(lines, modes, dashes):\n",
    "    for c, color in zip(cases[:2], colors):\n",
    "        first = c == cases[0]\n",
    "        if line == 'time':\n",
    "            fig.add_trace(go.Scatter(\n",
    "                x=seqs[c][names[0]]['date'],\n",
    "                y=seqs[c][names[0]][line],\n",
    "                mode=mode,\n",
    "                line=dict(color=color, dash=dash, width=1.5),\n",
    "                marker_symbol='square' if first else 'circle',\n",
    "                name=c,\n",
    "                legendgroup='g1' if first else 'g2',\n",
    "                customdata=seqs[c][names[0]].loc[:, ['date']+list(metadata)],\n",
    "                hovertemplate=\n",
    "                \"Date: %{customdata[0]}<br>\" +\n",
    "#                 \"Albany compiler: %{customdata[1]}<br>\" +\n",
    "                \"Albany commit: %{customdata[2]}<br>\" +\n",
    "                \"Trilinos commit: %{customdata[3]}\" +\n",
    "                \"<extra></extra>\",\n",
    "            ))\n",
    "        else:\n",
    "            fig.add_trace(go.Scatter(\n",
    "                x=seqs[c][names[0]]['date'],\n",
    "                y=seqs[c][names[0]][line],\n",
    "                mode=mode,\n",
    "                line=dict(color=color, dash=dash, width=1.5),\n",
    "                name=line,\n",
    "                legendgroup='g1' if first else 'g2',\n",
    "                hoverinfo='skip'\n",
    "            ))\n",
    "\n",
    "fig = fig.update_layout(\n",
    "    title='Comparison of nightly test performance',\n",
    "    xaxis_title='Simulation Date',\n",
    "    yaxis_title='Wall-clock Time (s)'\n",
    ")\n"
   ]
  },
  {
   "cell_type": "code",
   "execution_count": 15,
   "metadata": {},
   "outputs": [],
   "source": [
    "def latest_stats(c, n):\n",
    "    df = seqs[c][n]\n",
    "    n = df.shape[0]\n",
    "    mean = df['mean'][n-1]\n",
    "    std = .5*(df['upper'][n-1] - mean)\n",
    "    pts = []\n",
    "    for i in reversed(range(n)):\n",
    "        if df['mean'][i] == mean:\n",
    "            pts.append(df['time'][i])\n",
    "    return np.array(pts), mean, std"
   ]
  },
  {
   "cell_type": "code",
   "execution_count": 30,
   "metadata": {},
   "outputs": [],
   "source": [
    "# Create histogram of recent data from two test cases\n",
    "hist = go.FigureWidget()\n",
    "for c, color in zip(cases[:2], colors):\n",
    "    hist.add_trace(go.Histogram(\n",
    "        x=latest_stats(c, names[0])[0],\n",
    "        name=c,\n",
    "        marker_color=color,\n",
    "        opacity=0.7\n",
    "    ))\n",
    "hist = hist.update_layout(\n",
    "    barmode='overlay',\n",
    "    title='Observations since latest changepoints',\n",
    "    xaxis_title='Wall-clock Time (s)',\n",
    "    yaxis_title='Count',\n",
    "    legend_orientation='h',\n",
    "    legend=dict(x=0, y=1.11, bgcolor=None)\n",
    ")"
   ]
  },
  {
   "cell_type": "code",
   "execution_count": 31,
   "metadata": {},
   "outputs": [],
   "source": [
    "from ipywidgets import Output\n",
    "from scipy.stats import ttest_ind\n",
    "# Create a textbox that will show t-test results, and update it\n",
    "textbox = Output(layout={'border': '1px solid black'})\n",
    "def update_textbox(c1=cases[0], c2=cases[1], n=names[0]):\n",
    "    with textbox:\n",
    "        textbox.clear_output()\n",
    "        p1, m1, s1 = latest_stats(c1, n)\n",
    "        p2, m2, s2 = latest_stats(c2, n)\n",
    "        tstat, pval = ttest_ind(trim(p1), trim(p2))\n",
    "        signif = '*'*(int(pval<0.5)+int(pval<0.1)+int(pval<0.01))\n",
    "        print('Data since latest changepoints')\n",
    "        print(cases[0])\n",
    "        print('  N   : %d\\n  mean: %.2f\\n  std : %.2f' % (len(p1), m1, s1))\n",
    "        print(cases[1])\n",
    "        print('  N   : %d\\n  mean: %.2f\\n  std : %.2f' % (len(p2), m2, s2))\n",
    "        print('t-test results:')\n",
    "        print('  t-stat : %.2f' % tstat)\n",
    "        print('  p-value: %.4f%s' % (pval, signif))\n",
    "        \n",
    "update_textbox()"
   ]
  },
  {
   "cell_type": "code",
   "execution_count": 32,
   "metadata": {},
   "outputs": [],
   "source": [
    "# Function that will update all chart elements based on dropdowns\n",
    "def update(Case1=cases[0], Case2=cases[1], Timer=names[0]):\n",
    "    c1, c2, n = Case1, Case2, Timer\n",
    "    with fig.batch_update():\n",
    "        i = 0\n",
    "        for line, mode, dash in zip(lines, modes, dashes):\n",
    "            fig.data[i]['x']=seqs[c1][n]['date']\n",
    "            fig.data[i]['y']=seqs[c1][n][line]\n",
    "            fig.data[i]['name']=c1 if i < 2 else line\n",
    "            fig.data[i]['customdata']=seqs[c1][n].loc[:, ['date']+list(metadata)]\n",
    "            i += 1\n",
    "            \n",
    "            fig.data[i]['x']=seqs[c2][n]['date']\n",
    "            fig.data[i]['y']=seqs[c2][n][line]\n",
    "            fig.data[i]['name']=c2 if i < 2 else line\n",
    "            fig.data[i]['customdata']=seqs[c1][n].loc[:, ['date']+list(metadata)]            \n",
    "            i += 1\n",
    "    with hist.batch_update():\n",
    "        hist.data[0]['x']=latest_stats(c1,n)[0]\n",
    "        hist.data[1]['x']=latest_stats(c2,n)[0]\n",
    "    update_textbox(c1, c2,n)"
   ]
  },
  {
   "cell_type": "code",
   "execution_count": 33,
   "metadata": {},
   "outputs": [
    {
     "data": {
      "application/vnd.jupyter.widget-view+json": {
       "model_id": "d1a25c212e4c4852bee4ad6531801756",
       "version_major": 2,
       "version_minor": 0
      },
      "text/plain": [
       "VBox(children=(FigureWidget({\n",
       "    'data': [{'customdata': array([[Timestamp('2019-10-17 00:00:00'), None, None…"
      ]
     },
     "metadata": {},
     "output_type": "display_data"
    }
   ],
   "source": [
    "# Create dashboard\n",
    "from ipywidgets import interactive, HBox, VBox, HTML\n",
    "widget = interactive(update, Case1=list(cases), Case2=list(cases), Timer=list(names))\n",
    "VBox([\n",
    "    fig,\n",
    "    HBox([\n",
    "        hist, \n",
    "        VBox([widget, HTML('<br />'),textbox])\n",
    "    ])\n",
    "])"
   ]
  },
  {
   "cell_type": "markdown",
   "metadata": {},
   "source": [
    "### Plot of wall-clock times for nightly runs\n",
    "Changepoints are estimated using a generalized likelihood ratio method on each timer. \n",
    "* Markers: recorded wall-clock time\n",
    "* Solid line: average wall-clock time between changepoints\n",
    "* Dotted lines: average wall-clock time $\\pm$ two standard deviations\n",
    "\n",
    "### Histogram of recent observations\n",
    "Using data since the most recently detected changepoint, we plot histograms of the two cases being considered.\n",
    "\n",
    "### T-test for difference in average wall-clock time\n",
    "Data since the most recent changepoint is trimmed to remove outliers, and then we use a t-test to compare the average performance of the two test cases. One, two, and three asterisks indicate significance levels of 0.05, 0.01, and 0.001 respectively."
   ]
  }
 ],
 "metadata": {
  "kernelspec": {
   "display_name": "Python 3",
   "language": "python",
   "name": "python3"
  },
  "language_info": {
   "codemirror_mode": {
    "name": "ipython",
    "version": 3
   },
   "file_extension": ".py",
   "mimetype": "text/x-python",
   "name": "python",
   "nbconvert_exporter": "python",
   "pygments_lexer": "ipython3",
   "version": "3.7.6"
  },
  "latex_envs": {
   "LaTeX_envs_menu_present": true,
   "autoclose": false,
   "autocomplete": true,
   "bibliofile": "biblio.bib",
   "cite_by": "number",
   "current_citInitial": 1,
   "eqLabelWithNumbers": false,
   "eqNumInitial": 1,
   "hotkeys": {
    "equation": "Ctrl-E",
    "itemize": "Ctrl-I"
   },
   "labels_anchors": false,
   "latex_user_defs": false,
   "report_style_numbering": false,
   "user_envs_cfg": false
  }
 },
 "nbformat": 4,
 "nbformat_minor": 2
}
