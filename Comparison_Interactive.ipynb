{
 "cells": [
  {
   "cell_type": "markdown",
   "metadata": {},
   "source": [
    "# ALI Performance Tests on Blake\n",
    "Performance comparison dashboard. Must be run in Jupyter notebook to interact with plots."
   ]
  },
  {
   "cell_type": "code",
   "execution_count": 1,
   "metadata": {},
   "outputs": [],
   "source": [
    "import datetime as dt\n",
    "import glob\n",
    "import numpy as np\n",
    "import pandas as pd\n",
    "import json\n",
    "\n",
    "import plotly.graph_objects as go\n",
    "\n",
    "# Import scripts\n",
    "from json2timeline import json2dataframe\n",
    "from models import findChangePts\n",
    "from basicstats import *\n",
    "from utils import *"
   ]
  },
  {
   "cell_type": "code",
   "execution_count": 2,
   "metadata": {
    "scrolled": true
   },
   "outputs": [
    {
     "data": {
      "text/html": [
       "\n",
       "        <script>\n",
       "        code_show=true; \n",
       "        function code_toggle() {\n",
       "         if (code_show){\n",
       "         $('div.input').hide();\n",
       "         } else {\n",
       "         $('div.input').show();\n",
       "         }\n",
       "         code_show = !code_show\n",
       "        } \n",
       "        $( document ).ready(code_toggle);\n",
       "        </script>\n",
       "        <form action=\"javascript:code_toggle()\">\n",
       "        <input type=\"submit\" value=\"Show/hide code blocks\">\n",
       "        </form>\n",
       "    "
      ],
      "text/plain": [
       "<IPython.core.display.HTML object>"
      ]
     },
     "execution_count": 2,
     "metadata": {},
     "output_type": "execute_result"
    }
   ],
   "source": [
    "hide_code_button()"
   ]
  },
  {
   "cell_type": "code",
   "execution_count": 3,
   "metadata": {},
   "outputs": [],
   "source": [
    "# Load configuration file\n",
    "with open('config.json') as jf:\n",
    "    config = json.load(jf)\n",
    "check_config(config)\n",
    "for key,val in config.items():\n",
    "        exec(key + '=val')\n",
    "\n",
    "# Extract file names and collect data\n",
    "files = glob.glob('json/ctest-*')\n",
    "df = json2dataframe(files, cases, nproc, names, timers, metadata)\n",
    "\n",
    "# # Filter data by date if desired\n",
    "# import datetime as dt\n",
    "# df = df[df['date'] < dt.datetime.strptime('20191231', '%Y%m%d')]"
   ]
  },
  {
   "cell_type": "code",
   "execution_count": 4,
   "metadata": {
    "scrolled": false
   },
   "outputs": [
    {
     "name": "stdout",
     "output_type": "stream",
     "text": [
      "Test cases:\n",
      "  ant-2-20km_ml_ls\n",
      "  ant-2-20km_mu_ls\n",
      "  ant-2-20km_mu_dls\n",
      "  green-1-7km_fea_1ws\n",
      "  green-1-7km_ml_ls_1ws\n",
      "  green-1-7km_mu_ls_1ws\n",
      "  green-1-7km_mu_dls_1ws\n",
      "  green-1-7km_fea_mem\n",
      "  green-1-7km_ml_ls_mem\n",
      "  green-1-7km_mu_ls_mem\n",
      "  green-1-7km_mu_dls_mem\n",
      "Timers:\n",
      "  Total Time\n",
      "  Setup Time\n",
      "  Total Fill Time\n",
      "  Residual Fill\n",
      "  Residual Fill Evaluate\n",
      "  Residual Fill Export\n",
      "  Jacobian Fill\n",
      "  Jacobian Fill Evaluate\n",
      "  Jacobian Fill Export\n",
      "  NOX Total Preconditioner Construction\n",
      "  NOX Total Linear Solve\n",
      "Model threshold: 0.000100\n"
     ]
    }
   ],
   "source": [
    "#Print some information\n",
    "print('Test cases:')\n",
    "[print('  '+c) for c in cases]\n",
    "print('Timers:')\n",
    "[print('  '+n) for n in names]\n",
    "print(\"Model threshold: %f\" % threshold)"
   ]
  },
  {
   "cell_type": "code",
   "execution_count": 5,
   "metadata": {
    "scrolled": false
   },
   "outputs": [
    {
     "name": "stdout",
     "output_type": "stream",
     "text": [
      "Events in the most recent 10 days:\n",
      "02/01/2020:\n",
      "    green-1-7km_mu_ls_1ws: Residual Fill\n",
      "    green-1-7km_mu_dls_1ws: Residual Fill\n",
      "    green-1-7km_fea_mem: Residual Fill\n",
      "    green-1-7km_mu_ls_mem: Residual Fill\n",
      "    green-1-7km_mu_dls_mem: Residual Fill\n",
      "02/02/2020:\n",
      "    green-1-7km_mu_dls_mem: NOX Total Linear Solve\n"
     ]
    }
   ],
   "source": [
    "# Find changepoints and format data to work nicely with plots\n",
    "seqs = {case:{} for case in cases}\n",
    "mostRecent = df['date'].max()\n",
    "events = {}\n",
    "print('Finding changepoints')\n",
    "for case in cases:\n",
    "    print(case, end='')\n",
    "    for name in names:\n",
    "        print('.', end='')\n",
    "        # Detect changepoints\n",
    "        cols = ['date', name] + list(metadata)\n",
    "        data = df.loc[df['case']==case, cols].dropna(subset=[name])\n",
    "        data.reset_index(drop=True, inplace=True)\n",
    "        data.rename(columns={name:'time'}, inplace=True)\n",
    "        pts, _ = findChangePts(data['time'].to_numpy(), threshold=threshold)\n",
    "        \n",
    "        # Build dictionary of changepoints\n",
    "        for d in data['date'].iloc[pts]:\n",
    "            if d in events.keys():\n",
    "                if case in events[d].keys():\n",
    "                    events[d][case].append(name)\n",
    "                else:\n",
    "                    events[d][case] = [name]\n",
    "            else:\n",
    "                events[d] = {case: [name]}\n",
    "                    \n",
    "        # Calculate mean/std between changepoints\n",
    "        mean, upper, lower = regimeTimeseries(data['time'].to_numpy(), pts)\n",
    "        temp = {'mean': mean, 'upper': upper, 'lower': lower}\n",
    "        seqs[case][name] = pd.concat((data, pd.DataFrame(temp)), axis=1)\n",
    "    print()\n",
    "clear_output()\n",
    "\n",
    "# Sort and print recent events\n",
    "events = {k:events[k] for k in sorted(events.keys())}\n",
    "print('Events in the most recent %d days:' % recency)\n",
    "recentEvents = printEvents(events, mostRecent, recency)"
   ]
  },
  {
   "cell_type": "code",
   "execution_count": 6,
   "metadata": {
    "scrolled": false
   },
   "outputs": [],
   "source": [
    "# Plot results\n",
    "lines = ['time', 'mean'] # 'upper', 'lower']\n",
    "colors = ['darkred', 'midnightblue']\n",
    "modes = ['markers', 'lines', 'lines', 'lines']\n",
    "dashes = ['solid', 'solid', 'dot', 'dot']\n",
    "\n",
    "fig = go.FigureWidget()\n",
    "# Create series on plot\n",
    "for line, mode, dash in zip(lines, modes, dashes):\n",
    "    for c, color in zip(cases[:2], colors):\n",
    "        first = c == cases[0]\n",
    "        if line == 'time':\n",
    "            fig.add_trace(go.Scatter(\n",
    "                x=seqs[c][names[0]]['date'],\n",
    "                y=seqs[c][names[0]][line],\n",
    "                mode=mode,\n",
    "                line=dict(color=color, dash=dash, width=1.5),\n",
    "                marker_symbol='square' if first else 'circle',\n",
    "                name=c,\n",
    "                legendgroup='g1' if first else 'g2',\n",
    "                customdata=seqs[c][names[0]][['date']+list(metadata)],\n",
    "                hovertemplate=\n",
    "                \"Date: %{customdata[0]}<br>\" +\n",
    "#                 \"Albany compiler: %{customdata[1]}<br>\" +\n",
    "                \"Albany commit: %{customdata[2]}<br>\" +\n",
    "                \"Trilinos commit: %{customdata[3]}\" +\n",
    "                \"<extra></extra>\",\n",
    "            ))\n",
    "        else:\n",
    "            fig.add_trace(go.Scatter(\n",
    "                x=seqs[c][names[0]]['date'],\n",
    "                y=seqs[c][names[0]][line],\n",
    "                mode=mode,\n",
    "                line=dict(color=color, dash=dash, width=1.5),\n",
    "                name=line,\n",
    "                legendgroup='g1' if first else 'g2',\n",
    "                hoverinfo='skip'\n",
    "            ))\n",
    "\n",
    "fig = fig.update_layout(\n",
    "    title='Nightly test performance',\n",
    "    xaxis_title='Simulation Date',\n",
    "    yaxis_title='Wall-clock Time (s)'\n",
    ")\n"
   ]
  },
  {
   "cell_type": "code",
   "execution_count": null,
   "metadata": {},
   "outputs": [],
   "source": [
    "# Look at paired data\n",
    "def paired_data(c1, c2, name):\n",
    "    df1, df2 = seqs[c1][name].set_index('date'), seqs[c2][name].set_index('date')\n",
    "    df = df1.join(df2, lsuffix='_c1', rsuffix='_c2', how='inner')\n",
    "    df.reset_index(inplace=True)\n",
    "    df.rename(columns={'date':'date_c1'}, inplace=True)\n",
    "    timediff = df['time_c1'] - df['time_c2']\n",
    "    df = df[[c+'_c1' for c in ['date']+list(metadata)]]\n",
    "    df.columns = ['date']+list(metadata)\n",
    "    df['time'] = timediff \n",
    "    pts, _ = findChangePts(df['time'].to_numpy(), threshold=threshold)\n",
    "\n",
    "    # Calculate mean/std between changepoints\n",
    "    mean, upper, lower = regimeTimeseries(df['time'].to_numpy(), pts, std_error=True)\n",
    "    temp = {'mean': mean, 'upper': upper, 'lower': lower}\n",
    "    df = pd.concat((df, pd.DataFrame(temp)), axis=1)\n",
    "    return df\n",
    "\n",
    "pair_df = paired_data(cases[0], cases[1], names[0])\n",
    "lines_all = ['time', 'mean', 'upper', 'lower']\n",
    "diff_fig = go.FigureWidget()\n",
    "for line, mode, dash in zip(lines_all, modes, dashes):\n",
    "    color = 'blueviolet'\n",
    "    if line == 'time':\n",
    "        diff_fig.add_trace(go.Scatter(\n",
    "            x=pair_df['date'],\n",
    "            y=pair_df[line],\n",
    "            mode=mode,\n",
    "            line=dict(color=color, dash=dash, width=1.5),\n",
    "            marker_symbol='circle',\n",
    "            name='Time Difference',\n",
    "            customdata=pair_df[['date']+list(metadata)],\n",
    "            hovertemplate=\n",
    "            \"Date: %{customdata[0]}<br>\" +\n",
    "#                 \"Albany compiler: %{customdata[1]}<br>\" +\n",
    "            \"Albany commit: %{customdata[2]}<br>\" +\n",
    "            \"Trilinos commit: %{customdata[3]}\" +\n",
    "            \"<extra></extra>\",\n",
    "        ))\n",
    "    else:\n",
    "        diff_fig.add_trace(go.Scatter(\n",
    "            x=pair_df['date'],\n",
    "            y=pair_df[line],\n",
    "            mode=mode,\n",
    "            line=dict(color=color, dash=dash, width=1.5),\n",
    "            name=line,\n",
    "            hoverinfo='skip'\n",
    "        ))\n",
    "\n",
    "diff_fig = diff_fig.update_layout(\n",
    "    shapes=[dict(\n",
    "        type = \"line\", \n",
    "        x0 = 0, x1 = 1, xref = \"paper\",\n",
    "        y0 = 0, y1 = 0\n",
    "    )],\n",
    "    title='Analysis of performance difference (Case1 minus Case2)',\n",
    "    xaxis_title='Simulation Date',\n",
    "    yaxis_title='Difference (s)'\n",
    ")"
   ]
  },
  {
   "cell_type": "code",
   "execution_count": null,
   "metadata": {},
   "outputs": [],
   "source": [
    "def latest_stats(case, name):\n",
    "    df = seqs[case][name]\n",
    "    n = df.shape[0]\n",
    "    mean = df['mean'][n-1]\n",
    "    std = .5*(df['upper'][n-1] - mean)\n",
    "    pts = []\n",
    "    for i in reversed(range(n)):\n",
    "        if df['mean'][i] == mean:\n",
    "            pts.append(df['time'][i])\n",
    "        else:\n",
    "            break\n",
    "    return df['date'][i+1], np.array(pts), mean, std\n",
    "\n",
    "# Create histogram of recent data from two test cases\n",
    "hist = go.FigureWidget()\n",
    "for c, color in zip(cases[:2], colors):\n",
    "    hist.add_trace(go.Histogram(\n",
    "        x=latest_stats(c, names[0])[1],\n",
    "        name=c,\n",
    "        marker_color=color,\n",
    "        opacity=0.7\n",
    "    ))\n",
    "hist = hist.update_layout(\n",
    "    barmode='overlay',\n",
    "    title='Observations since latest changepoints',\n",
    "    xaxis_title='Wall-clock Time (s)',\n",
    "    yaxis_title='Count',\n",
    "    legend_orientation='h',\n",
    "    legend=dict(x=0, y=1.11, bgcolor=None)\n",
    ")"
   ]
  },
  {
   "cell_type": "code",
   "execution_count": null,
   "metadata": {},
   "outputs": [],
   "source": [
    "from ipywidgets import Output\n",
    "# Create a textbox that will show t-test results, and update it\n",
    "textbox = Output(layout={'border': '1px solid black'})\n",
    "def update_textbox(c1=cases[0], c2=cases[1], n=names[0]):\n",
    "    with textbox:\n",
    "        textbox.clear_output()\n",
    "        d1, p1, m1, s1 = latest_stats(c1, n)\n",
    "        d2, p2, m2, s2 = latest_stats(c2, n)\n",
    "        signif = lambda pval: '*'*(int(pval<0.05)+int(pval<0.01)+int(pval<0.001))\n",
    "        \n",
    "        # Summary statistics\n",
    "        print('Data since latest changepoints')\n",
    "        print(cases[0])\n",
    "        print('  N   : %d (since %s)\\n  mean: %.2f\\n  std : %.2f' % \n",
    "              (len(p1), dt.datetime.strftime(d1,'%b %d'), m1, s1))\n",
    "        print(cases[1])\n",
    "        print('  N   : %d (since %s)\\n  mean: %.2f\\n  std : %.2f' % \n",
    "              (len(p2), dt.datetime.strftime(d2,'%b %d'), m2, s2))\n",
    "        \n",
    "        # Test results\n",
    "        _, t_pval = ttest(p1, p2, with_pval=True)\n",
    "        print('t-test p-value: %.4f%s' % (t_pval, signif(t_pval)))\n",
    "        perm_pval = permtest(p1, p2, N=10000)\n",
    "        print('perm test p-value: %.4f%s' % (perm_pval, signif(perm_pval)))\n",
    "        \n",
    "update_textbox()"
   ]
  },
  {
   "cell_type": "code",
   "execution_count": null,
   "metadata": {},
   "outputs": [],
   "source": [
    "# Function that will update all chart elements based on dropdowns\n",
    "def update(Case1=cases[0], Case2=cases[1], Timer=names[0]):\n",
    "    c1, c2, n = Case1, Case2, Timer\n",
    "    pair_df = paired_data(c1, c2, n)\n",
    "    with fig.batch_update():\n",
    "        i = 0\n",
    "        for line, mode, dash in zip(lines, modes, dashes):\n",
    "            fig.data[i]['x']=seqs[c1][n]['date']\n",
    "            fig.data[i]['y']=seqs[c1][n][line]\n",
    "            fig.data[i]['name']=c1 if i < 2 else line\n",
    "            fig.data[i]['customdata']=seqs[c1][n].loc[:, ['date']+list(metadata)]\n",
    "            i += 1\n",
    "            \n",
    "            fig.data[i]['x']=seqs[c2][n]['date']\n",
    "            fig.data[i]['y']=seqs[c2][n][line]\n",
    "            fig.data[i]['name']=c2 if i < 2 else line\n",
    "            fig.data[i]['customdata']=seqs[c1][n][['date']+list(metadata)]            \n",
    "            i += 1\n",
    "    with diff_fig.batch_update():\n",
    "        for i, line in enumerate(lines_all):\n",
    "            diff_fig.data[i]['x']=pair_df['date']\n",
    "            diff_fig.data[i]['y']=pair_df[line]\n",
    "            diff_fig.data[i]['customdata']=pair_df[['date']+list(metadata)]    \n",
    "    with hist.batch_update():\n",
    "        hist.data[0]['x']=latest_stats(c1,n)[1]\n",
    "        hist.data[1]['x']=latest_stats(c2,n)[1]\n",
    "    update_textbox(c1, c2,n)"
   ]
  },
  {
   "cell_type": "code",
   "execution_count": null,
   "metadata": {},
   "outputs": [],
   "source": []
  },
  {
   "cell_type": "code",
   "execution_count": null,
   "metadata": {
    "scrolled": false
   },
   "outputs": [],
   "source": [
    "# Create dashboard\n",
    "from ipywidgets import interactive, HBox, VBox, HTML, Layout\n",
    "widget = interactive(update, Case1=list(cases), Case2=list(cases), Timer=list(names))\n",
    "controls = HBox(widget.children[:-1], layout = Layout(flex_flow='row wrap'))\n",
    "VBox([\n",
    "    controls, \n",
    "    fig,\n",
    "    diff_fig,\n",
    "    hist, textbox\n",
    "])"
   ]
  },
  {
   "cell_type": "markdown",
   "metadata": {},
   "source": [
    "### Plot of wall-clock times for nightly runs\n",
    "Changepoints are estimated using a generalized likelihood ratio method on each timer. \n",
    "* Markers: recorded wall-clock time\n",
    "* Solid line: average wall-clock time between changepoints\n",
    "* Dotted lines: average wall-clock time $\\pm$ two standard deviations\n",
    "\n",
    "### Histogram of recent observations\n",
    "Using data since the most recently detected changepoint, we plot histograms of the two cases being considered.\n",
    "\n",
    "### T-test for difference in average wall-clock time\n",
    "Data since the most recent changepoint is trimmed to remove outliers, and then we use a t-test to compare the average performance of the two test cases. One, two, and three asterisks indicate significance levels of 0.05, 0.01, and 0.001 respectively."
   ]
  },
  {
   "cell_type": "code",
   "execution_count": null,
   "metadata": {},
   "outputs": [],
   "source": [
    "seqs[cases[1]][names[-1]]['time'].to_numpy()"
   ]
  },
  {
   "cell_type": "code",
   "execution_count": null,
   "metadata": {},
   "outputs": [],
   "source": []
  }
 ],
 "metadata": {
  "kernelspec": {
   "display_name": "Python 3",
   "language": "python",
   "name": "python3"
  },
  "language_info": {
   "codemirror_mode": {
    "name": "ipython",
    "version": 3
   },
   "file_extension": ".py",
   "mimetype": "text/x-python",
   "name": "python",
   "nbconvert_exporter": "python",
   "pygments_lexer": "ipython3",
   "version": "3.7.6"
  },
  "latex_envs": {
   "LaTeX_envs_menu_present": true,
   "autoclose": false,
   "autocomplete": true,
   "bibliofile": "biblio.bib",
   "cite_by": "number",
   "current_citInitial": 1,
   "eqLabelWithNumbers": false,
   "eqNumInitial": 1,
   "hotkeys": {
    "equation": "Ctrl-E",
    "itemize": "Ctrl-I"
   },
   "labels_anchors": false,
   "latex_user_defs": false,
   "report_style_numbering": false,
   "user_envs_cfg": false
  }
 },
 "nbformat": 4,
 "nbformat_minor": 2
}
