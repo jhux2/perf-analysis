{
 "cells": [
  {
   "cell_type": "code",
   "execution_count": 1,
   "metadata": {},
   "outputs": [],
   "source": [
    "from email_report import *\n",
    "from models import find_chgpts\n",
    "import matplotlib.pyplot as plt"
   ]
  },
  {
   "cell_type": "code",
   "execution_count": 2,
   "metadata": {},
   "outputs": [],
   "source": [
    "# Generate random data\n",
    "xs = [np.random.randn(np.random.randint(10, 20)) + mean for mean in [10, 14, 8, 11]]\n",
    "x = np.concatenate(xs)\n",
    "t = range(len(x))\n",
    "\n",
    "alpha = 0.005"
   ]
  },
  {
   "cell_type": "code",
   "execution_count": 3,
   "metadata": {
    "scrolled": false
   },
   "outputs": [
    {
     "data": {
      "text/plain": [
       "Text(0, 0.5, 'Values')"
      ]
     },
     "execution_count": 3,
     "metadata": {},
     "output_type": "execute_result"
    },
    {
     "data": {
      "image/png": "[encoded data removed]",
      "text/plain": [
       "<Figure size 1152x432 with 1 Axes>"
      ]
     },
     "metadata": {
      "needs_background": "light"
     },
     "output_type": "display_data"
    }
   ],
   "source": [
    "# Test changepoint detector\n",
    "chgpts, detpts, votes = find_chgpts(x, alpha=alpha, num_test=5)\n",
    "plt.rcParams.update({'font.size': 14})\n",
    "plt.figure(figsize=(16, 6))\n",
    "\n",
    "plt.scatter(np.arange(len(x)), x)\n",
    "# plt.xlim(0, len(x))\n",
    "plt.ylim(x.min()*.98,x.max()*1.02)\n",
    "plt.vlines(chgpts, x.min()-1, x.max()+1, color='blue', alpha=.5)\n",
    "plt.ylabel('Values')"
   ]
  },
  {
   "cell_type": "code",
   "execution_count": 4,
   "metadata": {
    "scrolled": false
   },
   "outputs": [
    {
     "name": "stdout",
     "output_type": "stream",
     "text": [
      "0 pass, 9.50, 9.50, 0.00\n",
      "1 pass, 10.29, 9.89, 0.40\n",
      "2 pass, 10.15, 9.98, 0.34\n",
      "3 pass, 10.07, 10.00, 0.30\n",
      "4 pass, 7.46, 9.49, 1.05\n",
      "5 pass, 10.16, 9.60, 0.99\n",
      "6 pass, 10.48, 9.73, 0.97\n",
      "7 pass, 8.22, 9.54, 1.03\n",
      "8 pass, 9.03, 9.48, 0.99\n",
      "9 pass, 9.45, 9.48, 0.94\n",
      "10 pass, 9.10, 9.45, 0.90\n",
      "11 pass, 13.45, 9.78, 1.40\n",
      "12 warn, 14.42, 10.14, 1.83\n",
      "13 warn, 12.33, 10.29, 1.85\n",
      "14 fail, 15.98, 10.67, 2.28\n",
      "15 pass, 12.70, 13.78, 1.31\n",
      "16 pass, 15.14, 14.00, 1.30\n",
      "17 pass, 12.85, 13.84, 1.27\n",
      "18 pass, 14.50, 13.92, 1.21\n",
      "19 pass, 13.25, 13.85, 1.16\n",
      "20 pass, 12.68, 13.73, 1.15\n",
      "21 pass, 13.11, 13.67, 1.11\n",
      "22 pass, 14.09, 13.71, 1.07\n",
      "23 pass, 15.78, 13.87, 1.17\n",
      "24 pass, 14.74, 13.93, 1.15\n",
      "25 pass, 14.12, 13.94, 1.11\n",
      "26 pass, 6.99, 13.51, 2.00\n",
      "27 pass, 8.38, 13.21, 2.28\n",
      "28 pass, 10.52, 13.06, 2.30\n",
      "29 pass, 7.49, 8.35, 1.35\n",
      "30 pass, 6.89, 8.05, 1.34\n",
      "31 pass, 8.64, 8.15, 1.24\n",
      "32 pass, 7.25, 8.02, 1.19\n",
      "33 pass, 7.20, 7.92, 1.15\n",
      "34 pass, 8.64, 8.00, 1.11\n",
      "35 pass, 7.84, 7.99, 1.05\n",
      "36 pass, 10.77, 8.24, 1.28\n",
      "37 pass, 10.87, 8.46, 1.43\n",
      "38 warn, 12.79, 8.79, 1.79\n",
      "39 warn, 11.36, 8.97, 1.85\n",
      "40 fail, 11.47, 9.14, 1.89\n",
      "41 pass, 10.11, 11.23, 0.83\n",
      "42 pass, 10.76, 11.16, 0.78\n",
      "43 pass, 11.94, 11.26, 0.78\n",
      "44 pass, 11.32, 11.27, 0.73\n",
      "45 pass, 12.95, 11.43, 0.86\n",
      "46 pass, 9.90, 11.30, 0.93\n",
      "47 pass, 10.40, 11.22, 0.92\n",
      "48 pass, 11.18, 11.22, 0.89\n",
      "49 pass, 9.41, 11.09, 0.97\n",
      "50 pass, 11.22, 11.10, 0.94\n",
      "51 pass, 12.54, 11.19, 0.98\n",
      "52 pass, 11.49, 11.20, 0.95\n"
     ]
    },
    {
     "data": {
      "text/plain": [
       "(5.886189684243569, 16.975871949613428)"
      ]
     },
     "execution_count": 4,
     "metadata": {},
     "output_type": "execute_result"
    },
    {
     "data": {
      "image/png": "[encoded data removed]",
      "text/plain": [
       "<Figure size 1152x432 with 1 Axes>"
      ]
     },
     "metadata": {
      "needs_background": "light"
     },
     "output_type": "display_data"
    }
   ],
   "source": [
    "plt.rcParams.update({'font.size': 14})\n",
    "plt.figure(figsize=(16, 6))\n",
    "for i in range(len(x)):\n",
    "    output = changepoint_test(x[:i+1], alpha)\n",
    "    if output[0] == 'warn':\n",
    "        plt.vlines(i, -100, 100, color='orange', alpha=.9)\n",
    "    if output[0] == 'fail':\n",
    "        plt.vlines(i, -100, 100, color='red', alpha=.9)\n",
    "    print(i, '%s, %.2f, %.2f, %.2f' % output)\n",
    "    \n",
    "plt.scatter(np.arange(len(x)), x)\n",
    "plt.vlines(chgpts, -100, 100, color='blue', alpha=.5, linestyles='dashed')\n",
    "plt.ylim(x.min()-1, x.max()+1)"
   ]
  },
  {
   "cell_type": "code",
   "execution_count": null,
   "metadata": {},
   "outputs": [],
   "source": []
  }
 ],
 "metadata": {
  "kernelspec": {
   "display_name": "Python 3",
   "language": "python",
   "name": "python3"
  },
  "language_info": {
   "codemirror_mode": {
    "name": "ipython",
    "version": 3
   },
   "file_extension": ".py",
   "mimetype": "text/x-python",
   "name": "python",
   "nbconvert_exporter": "python",
   "pygments_lexer": "ipython3",
   "version": "3.7.6"
  }
 },
 "nbformat": 4,
 "nbformat_minor": 4
}
