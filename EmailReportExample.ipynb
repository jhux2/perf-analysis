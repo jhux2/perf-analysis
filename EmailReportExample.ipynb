{
 "cells": [
  {
   "cell_type": "code",
   "execution_count": 1,
   "metadata": {},
   "outputs": [],
   "source": [
    "from email_report import *\n",
    "from models import find_chgpts\n",
    "import matplotlib.pyplot as plt"
   ]
  },
  {
   "cell_type": "code",
   "execution_count": 2,
   "metadata": {},
   "outputs": [],
   "source": [
    "# Generate random data\n",
    "xs = [np.random.randn(np.random.randint(10, 20)) + mean for mean in [10, 14, 8, 11]]\n",
    "x = np.concatenate(xs)\n",
    "t = range(len(x))\n",
    "\n",
    "alpha = 0.005"
   ]
  },
  {
   "cell_type": "code",
   "execution_count": 3,
   "metadata": {
    "scrolled": false
   },
   "outputs": [
    {
     "data": {
      "text/plain": [
       "Text(0, 0.5, 'Values')"
      ]
     },
     "execution_count": 3,
     "metadata": {},
     "output_type": "execute_result"
    },
    {
     "data": {
      "image/png": "[encoded data removed]",
      "text/plain": [
       "<Figure size 1152x432 with 1 Axes>"
      ]
     },
     "metadata": {
      "needs_background": "light"
     },
     "output_type": "display_data"
    }
   ],
   "source": [
    "# Test changepoint detector\n",
    "chgpts, detpts, votes = find_chgpts(x, alpha=alpha, num_test=5)\n",
    "plt.rcParams.update({'font.size': 14})\n",
    "plt.figure(figsize=(16, 6))\n",
    "\n",
    "plt.scatter(np.arange(len(x)), x)\n",
    "# plt.xlim(0, len(x))\n",
    "plt.ylim(x.min()*.98,x.max()*1.02)\n",
    "plt.vlines(chgpts, x.min()-1, x.max()+1, color='blue', alpha=.5)\n",
    "plt.ylabel('Values')"
   ]
  },
  {
   "cell_type": "code",
   "execution_count": 4,
   "metadata": {},
   "outputs": [
    {
     "name": "stdout",
     "output_type": "stream",
     "text": [
      "0 pass, 9.72, 9.72, 0.00\n",
      "1 pass, 11.53, 10.62, 0.90\n",
      "2 pass, 8.52, 9.92, 1.23\n",
      "3 pass, 10.44, 10.05, 1.09\n",
      "4 pass, 7.87, 9.62, 1.31\n",
      "5 pass, 9.84, 9.65, 1.20\n",
      "6 pass, 8.53, 9.49, 1.18\n",
      "7 pass, 10.42, 9.61, 1.14\n",
      "8 pass, 8.57, 9.49, 1.13\n",
      "9 pass, 11.61, 9.70, 1.24\n",
      "10 pass, 10.37, 9.76, 1.20\n",
      "11 pass, 10.84, 9.85, 1.19\n",
      "12 pass, 10.59, 9.91, 1.16\n",
      "13 pass, 11.17, 10.00, 1.16\n",
      "14 pass, 15.05, 10.34, 1.69\n",
      "15 warn, 13.81, 10.55, 1.84\n",
      "16 warn, 13.68, 10.74, 1.93\n",
      "17 fail, 13.87, 10.91, 2.01\n",
      "18 pass, 15.40, 14.36, 0.72\n",
      "19 pass, 12.24, 14.01, 1.03\n",
      "20 pass, 14.34, 14.05, 0.96\n",
      "21 pass, 13.49, 13.98, 0.92\n",
      "22 pass, 12.96, 13.87, 0.92\n",
      "23 pass, 15.00, 13.98, 0.94\n",
      "24 pass, 8.75, 13.51, 1.75\n",
      "25 pass, 9.44, 13.17, 2.02\n",
      "26 pass, 8.11, 12.78, 2.36\n",
      "27 pass, 10.19, 9.12, 0.78\n",
      "28 pass, 8.63, 9.02, 0.72\n",
      "29 pass, 7.81, 8.82, 0.80\n",
      "30 pass, 8.55, 8.78, 0.75\n",
      "31 pass, 8.71, 8.78, 0.70\n",
      "32 pass, 5.93, 8.46, 1.11\n",
      "33 pass, 7.73, 8.39, 1.08\n",
      "34 pass, 11.98, 8.71, 1.46\n",
      "35 pass, 10.98, 8.90, 1.53\n",
      "36 pass, 11.39, 9.09, 1.61\n",
      "37 pass, 9.92, 9.15, 1.57\n",
      "38 fail, 11.52, 9.31, 1.62\n",
      "39 pass, 10.29, 11.01, 0.71\n",
      "40 pass, 11.97, 11.15, 0.74\n",
      "41 pass, 12.80, 11.36, 0.88\n",
      "42 pass, 12.03, 11.43, 0.86\n",
      "43 pass, 10.41, 11.33, 0.87\n",
      "44 pass, 12.00, 11.39, 0.85\n",
      "45 pass, 10.64, 11.33, 0.84\n",
      "46 pass, 8.92, 11.14, 1.03\n",
      "47 pass, 12.08, 11.21, 1.02\n"
     ]
    },
    {
     "data": {
      "text/plain": [
       "(4.930716519856361, 16.404981507870897)"
      ]
     },
     "execution_count": 4,
     "metadata": {},
     "output_type": "execute_result"
    },
    {
     "data": {
      "image/png": "[encoded data removed]",
      "text/plain": [
       "<Figure size 1152x432 with 1 Axes>"
      ]
     },
     "metadata": {
      "needs_background": "light"
     },
     "output_type": "display_data"
    }
   ],
   "source": [
    "plt.rcParams.update({'font.size': 14})\n",
    "plt.figure(figsize=(16, 6))\n",
    "for i in range(len(x)):\n",
    "    output = changepoint_test(x[:i+1], alpha)\n",
    "    if output[0] == 'warn':\n",
    "        plt.vlines(i, -100, 100, color='orange', alpha=.9)\n",
    "    if output[0] == 'fail':\n",
    "        plt.vlines(i, -100, 100, color='red', alpha=.9)\n",
    "    print(i, '%s, %.2f, %.2f, %.2f' % output)\n",
    "    \n",
    "plt.scatter(np.arange(len(x)), x)\n",
    "plt.vlines(chgpts, -100, 100, color='blue', alpha=.5, linestyles='dashed')\n",
    "plt.ylim(x.min()-1, x.max()+1)"
   ]
  },
  {
   "cell_type": "code",
   "execution_count": null,
   "metadata": {},
   "outputs": [],
   "source": []
  }
 ],
 "metadata": {
  "kernelspec": {
   "display_name": "Python 3",
   "language": "python",
   "name": "python3"
  },
  "language_info": {
   "codemirror_mode": {
    "name": "ipython",
    "version": 3
   },
   "file_extension": ".py",
   "mimetype": "text/x-python",
   "name": "python",
   "nbconvert_exporter": "python",
   "pygments_lexer": "ipython3",
   "version": "3.7.6"
  }
 },
 "nbformat": 4,
 "nbformat_minor": 4
}
