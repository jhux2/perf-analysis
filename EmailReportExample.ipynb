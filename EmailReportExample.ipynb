{
 "cells": [
  {
   "cell_type": "code",
   "execution_count": 6,
   "metadata": {},
   "outputs": [],
   "source": [
    "from email_report import *\n",
    "from models import find_chgpts\n",
    "import matplotlib.pyplot as plt"
   ]
  },
  {
   "cell_type": "code",
   "execution_count": 7,
   "metadata": {},
   "outputs": [],
   "source": [
    "# Generate random data\n",
    "xs = [np.random.randn(np.random.randint(10, 20)) + mean for mean in [10, 14, 8]]\n",
    "x = np.concatenate(xs)\n",
    "t = range(len(x))\n",
    "\n",
    "alpha = 0.005"
   ]
  },
  {
   "cell_type": "code",
   "execution_count": 8,
   "metadata": {},
   "outputs": [
    {
     "data": {
      "text/plain": [
       "Text(0, 0.5, 'Values')"
      ]
     },
     "execution_count": 8,
     "metadata": {},
     "output_type": "execute_result"
    },
    {
     "data": {
      "image/png": "[encoded data removed]",
      "text/plain": [
       "<Figure size 432x288 with 1 Axes>"
      ]
     },
     "metadata": {
      "needs_background": "light"
     },
     "output_type": "display_data"
    }
   ],
   "source": [
    "# Test changepoint detector\n",
    "chgpts, detpts, votes = find_chgpts(x, alpha=alpha, num_test=5)\n",
    "plt.rcParams.update({'font.size': 14})\n",
    "plt.figure(figsize=(6, 4))\n",
    "\n",
    "plt.scatter(np.arange(len(x)), x)\n",
    "# plt.xlim(0, len(x))\n",
    "plt.ylim(x.min()*.98,x.max()*1.02)\n",
    "plt.vlines(chgpts, x.min()-1, x.max()+1, color='blue', alpha=.5)\n",
    "plt.ylabel('Values')"
   ]
  },
  {
   "cell_type": "code",
   "execution_count": 9,
   "metadata": {},
   "outputs": [
    {
     "name": "stdout",
     "output_type": "stream",
     "text": [
      "pass, 11, 8, 1.2\n",
      "warn, 12, 8.2, 1.5\n",
      "warn, 11, 8.3, 1.5\n",
      "fail, 10, 8.4, 1.5\n",
      "pass, 12, 11, 0.85\n",
      "pass, 13, 11, 0.93\n",
      "pass, 12, 12, 0.9\n",
      "pass, 10, 11, 0.95\n",
      "pass, 10, 11, 0.96\n",
      "pass, 12, 11, 0.91\n"
     ]
    },
    {
     "data": {
      "text/plain": [
       "(5.170195438890838, 17.302049087761073)"
      ]
     },
     "execution_count": 9,
     "metadata": {},
     "output_type": "execute_result"
    },
    {
     "data": {
      "image/png": "[encoded data removed]",
      "text/plain": [
       "<Figure size 1296x432 with 1 Axes>"
      ]
     },
     "metadata": {
      "needs_background": "light"
     },
     "output_type": "display_data"
    }
   ],
   "source": [
    "new_mean = 11\n",
    "y = x\n",
    "plt.rcParams.update({'font.size': 14})\n",
    "plt.figure(figsize=(18, 6))\n",
    "for _ in range(10):\n",
    "    y = np.concatenate((y, np.random.randn(1)+new_mean))\n",
    "    output = changepoint_test(y, alpha)\n",
    "    if output[0] == 'warn':\n",
    "        plt.vlines(len(y)-1, -100, 100, color='orange', alpha=.9)\n",
    "    if output[0] == 'fail':\n",
    "        plt.vlines(len(y)-1, -100, 100, color='red', alpha=.9)\n",
    "    print('%s, %.2g, %.2g, %.2g' % output)\n",
    "    \n",
    "plt.scatter(np.arange(len(y)), y)\n",
    "plt.vlines(chgpts+[len(x)], -100, 100, color='blue', alpha=.5, linestyles='dashed')\n",
    "plt.ylim(y.min()-1, y.max()+1)"
   ]
  },
  {
   "cell_type": "code",
   "execution_count": null,
   "metadata": {},
   "outputs": [],
   "source": []
  },
  {
   "cell_type": "code",
   "execution_count": null,
   "metadata": {},
   "outputs": [],
   "source": []
  }
 ],
 "metadata": {
  "kernelspec": {
   "display_name": "Python 3",
   "language": "python",
   "name": "python3"
  },
  "language_info": {
   "codemirror_mode": {
    "name": "ipython",
    "version": 3
   },
   "file_extension": ".py",
   "mimetype": "text/x-python",
   "name": "python",
   "nbconvert_exporter": "python",
   "pygments_lexer": "ipython3",
   "version": "3.7.6"
  }
 },
 "nbformat": 4,
 "nbformat_minor": 4
}
